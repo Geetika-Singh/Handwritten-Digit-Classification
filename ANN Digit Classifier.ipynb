{
 "cells": [
  {
   "cell_type": "code",
   "execution_count": 1,
   "id": "a57fbbe7",
   "metadata": {},
   "outputs": [],
   "source": [
    "import numpy as np\n",
    "import pandas as pd\n",
    "import matplotlib.pyplot as plt\n",
    "%matplotlib inline\n",
    "import tensorflow as tf\n",
    "from tensorflow import keras"
   ]
  },
  {
   "cell_type": "markdown",
   "id": "0f0c4587",
   "metadata": {},
   "source": [
    "MNIST data is a database of handwritten digits from 0 to 9. The database contains 60,000 28x28 grayscale images of the 10 digits, along with a test set of 10,000 images. Create an ANN model to identify the digit from the handwritten images."
   ]
  },
  {
   "cell_type": "code",
   "execution_count": 2,
   "id": "0937d3ca",
   "metadata": {},
   "outputs": [
    {
     "name": "stdout",
     "output_type": "stream",
     "text": [
      "Downloading data from https://storage.googleapis.com/tensorflow/tf-keras-datasets/mnist.npz\n",
      "11490434/11490434 [==============================] - 3s 0us/step\n"
     ]
    }
   ],
   "source": [
    "df = keras.datasets.mnist\n",
    "(x_train_full,y_train_full),(x_test,y_test) = df.load_data()"
   ]
  },
  {
   "cell_type": "code",
   "execution_count": null,
   "id": "9b77806e",
   "metadata": {},
   "outputs": [],
   "source": [
    "x_train_full[6]"
   ]
  },
  {
   "cell_type": "code",
   "execution_count": null,
   "id": "12cacf74",
   "metadata": {},
   "outputs": [],
   "source": [
    "plt.imshow(x_train_full[6])"
   ]
  },
  {
   "cell_type": "markdown",
   "id": "4dff5446",
   "metadata": {},
   "source": [
    "### Data Normalisation"
   ]
  },
  {
   "cell_type": "code",
   "execution_count": 4,
   "id": "732f58de",
   "metadata": {},
   "outputs": [],
   "source": [
    "x_train_norm = x_train_full/255.0\n",
    "x_test_norm = x_test/255.0"
   ]
  },
  {
   "cell_type": "markdown",
   "id": "1841e1dc",
   "metadata": {},
   "source": [
    "### Train-Val-Test Split"
   ]
  },
  {
   "cell_type": "code",
   "execution_count": 5,
   "id": "48892f5d",
   "metadata": {},
   "outputs": [],
   "source": [
    "x_val, x_train = x_train_norm[:6000], x_train_norm[6000:]\n",
    "y_val, y_train = y_train_full[:6000], y_train_full[6000:]\n",
    "x_test = x_test_norm"
   ]
  },
  {
   "cell_type": "markdown",
   "id": "41c440c0",
   "metadata": {},
   "source": [
    "### Delete Model"
   ]
  },
  {
   "cell_type": "code",
   "execution_count": null,
   "id": "4735ce1a",
   "metadata": {},
   "outputs": [],
   "source": [
    "del model\n",
    "# free up the resources for next model training.\n",
    "keras.backend.clear_session()"
   ]
  },
  {
   "cell_type": "markdown",
   "id": "a8f023d4",
   "metadata": {},
   "source": [
    "Random is to have the same output each time I run the code or to have the same output on every machine."
   ]
  },
  {
   "cell_type": "code",
   "execution_count": 6,
   "id": "36a54d48",
   "metadata": {},
   "outputs": [],
   "source": [
    "np.random.seed(42)\n",
    "tf.random.set_seed(42)"
   ]
  },
  {
   "cell_type": "markdown",
   "id": "f25f2a71",
   "metadata": {},
   "source": [
    "### Model architecture / structure"
   ]
  },
  {
   "cell_type": "markdown",
   "id": "9f4eec18",
   "metadata": {},
   "source": [
    "ANN model with two dense layers of 200 and 100 neurons"
   ]
  },
  {
   "cell_type": "code",
   "execution_count": 7,
   "id": "a7e0f061",
   "metadata": {},
   "outputs": [],
   "source": [
    "model = keras.models.Sequential()\n",
    "model.add(keras.layers.Flatten(input_shape=[28,28]))\n",
    "model.add(keras.layers.Dense(200, activation='relu'))\n",
    "model.add(keras.layers.Dense(100, activation='relu'))\n",
    "model.add(keras.layers.Dense(10, activation='softmax'))"
   ]
  },
  {
   "cell_type": "markdown",
   "id": "aa044c97",
   "metadata": {},
   "source": [
    "### Compile"
   ]
  },
  {
   "cell_type": "code",
   "execution_count": 8,
   "id": "62a2e611",
   "metadata": {},
   "outputs": [],
   "source": [
    "model.compile(optimizer = \"sgd\",\n",
    "             loss = \"sparse_categorical_crossentropy\",\n",
    "             metrics = ['accuracy'])"
   ]
  },
  {
   "cell_type": "markdown",
   "id": "5a5ecbd1",
   "metadata": {},
   "source": [
    "### Using Callbacks"
   ]
  },
  {
   "cell_type": "markdown",
   "id": "fdac5d9f",
   "metadata": {},
   "source": [
    "Usually, we have large datasets that can take 8-10 hours to train. For such a scenario, we can use callbacks. Callbacks are checkpoints that allow us to save the model while training after each epoch. "
   ]
  },
  {
   "cell_type": "raw",
   "id": "8b68bb59",
   "metadata": {},
   "source": [
    "# checkpoint_cb = keras.callbacks.ModelCheckpoint(\"Model-{epoch:02d}.h5\")\n",
    "# Here, models will be saved as Model-01.h5, Model-02.h5, etc. Here, variable name\n",
    "# is enclosed in {}. Because I want 2 digits, I've written 02d. If I had wanted \n",
    "# 3 digits, I'd have written 03d. "
   ]
  },
  {
   "cell_type": "markdown",
   "id": "6cabeec1",
   "metadata": {},
   "source": [
    "### Saving the best model"
   ]
  },
  {
   "cell_type": "code",
   "execution_count": null,
   "id": "896fa159",
   "metadata": {},
   "outputs": [],
   "source": [
    "checkpoint_cb = keras.callbacks.ModelCheckpoint(\"ANN_Digits_Model.h5\", save_best_only=True)\n",
    "early_stopping_cb = keras.callbacks.EarlyStopping(patience=4, restore_best_weights=True)"
   ]
  },
  {
   "cell_type": "markdown",
   "id": "6bf94a95",
   "metadata": {},
   "source": [
    "When we train our model for a very large number of epoch values such as epochs=200, we will keep an eye on our validation set score. Suppose after 60 epochs, the val_accuracy is not improving, then we can stop the training at that point & use the model with the best validation score so far. <br> Patience is the number of epochs after which training will be interrupted if there is no progress on val_accruacy.<br>\n",
    "A model can be saved only after completion of its training. <br>"
   ]
  },
  {
   "cell_type": "markdown",
   "id": "670b6fdd",
   "metadata": {},
   "source": [
    "### Train"
   ]
  },
  {
   "cell_type": "code",
   "execution_count": null,
   "id": "2a19b3eb",
   "metadata": {},
   "outputs": [],
   "source": [
    "model_history = model.fit(x_train, y_train, epochs=200, validation_data=(x_val, y_val),\n",
    "                         callbacks = [checkpoint_cb, early_stopping_cb])"
   ]
  },
  {
   "cell_type": "code",
   "execution_count": null,
   "id": "5218fbc5",
   "metadata": {},
   "outputs": [],
   "source": [
    "pd.DataFrame(model_history.history).plot(figsize=(8,5))\n",
    "plt.grid(True)\n",
    "plt.gca().set_ylim(0,1)\n",
    "plt.show()"
   ]
  },
  {
   "cell_type": "markdown",
   "id": "e73a835c",
   "metadata": {},
   "source": [
    "### Restoring the best saved model & Evaluating the model on test set"
   ]
  },
  {
   "cell_type": "code",
   "execution_count": null,
   "id": "61757ba9",
   "metadata": {},
   "outputs": [],
   "source": [
    "model = keras.models.load_model(\"ANN_Digits_Model.h5\")\n",
    "model.evaluate(x_test,y_test)"
   ]
  },
  {
   "cell_type": "code",
   "execution_count": null,
   "id": "7d05ad0e",
   "metadata": {},
   "outputs": [],
   "source": [
    "y_pred = np.argmax(model.predict(x_test[:5]),axis=1)\n",
    "y_pred"
   ]
  },
  {
   "cell_type": "code",
   "execution_count": null,
   "id": "c371931b",
   "metadata": {},
   "outputs": [],
   "source": [
    "plt.imshow(x_test[2])"
   ]
  },
  {
   "cell_type": "markdown",
   "id": "8c5122c1",
   "metadata": {},
   "source": [
    "## Saving the Model"
   ]
  },
  {
   "cell_type": "raw",
   "id": "bd5b6dcb",
   "metadata": {},
   "source": [
    "model.save(\"digit_classifier_model.h5\")\n",
    "# A model can be saved only after completion of its training. "
   ]
  },
  {
   "cell_type": "raw",
   "id": "f7a32b00",
   "metadata": {},
   "source": [
    "# to see your present working directory\n",
    "%pwd"
   ]
  },
  {
   "cell_type": "raw",
   "id": "09a8ff17",
   "metadata": {},
   "source": [
    "# to change your working directory\n",
    "%cd C:\\\\Users\\\\geetika singh\\\\Downloads"
   ]
  }
 ],
 "metadata": {
  "kernelspec": {
   "display_name": "Python 3 (ipykernel)",
   "language": "python",
   "name": "python3"
  },
  "language_info": {
   "codemirror_mode": {
    "name": "ipython",
    "version": 3
   },
   "file_extension": ".py",
   "mimetype": "text/x-python",
   "name": "python",
   "nbconvert_exporter": "python",
   "pygments_lexer": "ipython3",
   "version": "3.11.4"
  }
 },
 "nbformat": 4,
 "nbformat_minor": 5
}
