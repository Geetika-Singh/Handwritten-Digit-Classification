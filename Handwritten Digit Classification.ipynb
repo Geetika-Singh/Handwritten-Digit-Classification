{
 "cells": [
  {
   "cell_type": "markdown",
   "id": "9e4ec3b0",
   "metadata": {},
   "source": [
    "CNN model to classify a given image of handwritten digit into one of the 10 classes representing integer values from 0 to 9."
   ]
  },
  {
   "cell_type": "code",
   "execution_count": 1,
   "id": "196d97bb",
   "metadata": {},
   "outputs": [],
   "source": [
    "import numpy as np\n",
    "import pandas as pd\n",
    "import matplotlib.pyplot as plt\n",
    "%matplotlib inline\n",
    "import tensorflow as tf\n",
    "from tensorflow import keras"
   ]
  },
  {
   "cell_type": "markdown",
   "id": "383bab91",
   "metadata": {},
   "source": [
    "MNIST data is a database of handwritten digits from 0 to 9. The database contains 60,000 28x28 grayscale images of the 10 digits, along with a test set of 10,000 images. Create an ANN model to identify the digit from the handwritten images."
   ]
  },
  {
   "cell_type": "code",
   "execution_count": 2,
   "id": "b741e295",
   "metadata": {},
   "outputs": [],
   "source": [
    "from keras.datasets import mnist\n",
    "# alternative syntax: df = keras.datasets.mnist\n",
    "(x_train_full,y_train_full),(x_test,y_test) = mnist.load_data()"
   ]
  },
  {
   "cell_type": "code",
   "execution_count": null,
   "id": "1c5f6ff7",
   "metadata": {},
   "outputs": [],
   "source": [
    "x_train_full[6]"
   ]
  },
  {
   "cell_type": "code",
   "execution_count": null,
   "id": "a3c4e6d5",
   "metadata": {},
   "outputs": [],
   "source": [
    "plt.imshow(x_train_full[6])"
   ]
  },
  {
   "cell_type": "code",
   "execution_count": 3,
   "id": "e8d120d5",
   "metadata": {},
   "outputs": [
    {
     "name": "stdout",
     "output_type": "stream",
     "text": [
      "(60000, 28, 28) \n",
      " (60000,) \n",
      " (10000, 28, 28) \n",
      " (10000,)\n"
     ]
    }
   ],
   "source": [
    "print(x_train_full.shape,\"\\n\",y_train_full.shape,\"\\n\",x_test.shape,\"\\n\",y_test.shape)"
   ]
  },
  {
   "cell_type": "markdown",
   "id": "9c7fb05f",
   "metadata": {},
   "source": [
    "## Data Reshape\n",
    "for CNN model"
   ]
  },
  {
   "cell_type": "code",
   "execution_count": 3,
   "id": "e1ef1ff7",
   "metadata": {},
   "outputs": [],
   "source": [
    "x_train_full = x_train_full.reshape((60000,28,28,1)) # 1 stands for channel.\n",
    "x_test = x_test.reshape((10000,28,28,1))"
   ]
  },
  {
   "cell_type": "markdown",
   "id": "f0ca941d",
   "metadata": {},
   "source": [
    "## Data Normalisation"
   ]
  },
  {
   "cell_type": "code",
   "execution_count": 4,
   "id": "1f69baf6",
   "metadata": {},
   "outputs": [],
   "source": [
    "x_train_norm = x_train_full/255.0\n",
    "x_test_norm = x_test/255.0"
   ]
  },
  {
   "cell_type": "markdown",
   "id": "57dfef1f",
   "metadata": {},
   "source": [
    "## Train-Val-Test Split\n",
    "validation set of 6000 images."
   ]
  },
  {
   "cell_type": "code",
   "execution_count": 5,
   "id": "8497d1f0",
   "metadata": {},
   "outputs": [],
   "source": [
    "x_val, x_train = x_train_norm[:6000], x_train_norm[6000:]\n",
    "y_val, y_train = y_train_full[:6000], y_train_full[6000:]\n",
    "x_test = x_test_norm"
   ]
  },
  {
   "cell_type": "markdown",
   "id": "858ae031",
   "metadata": {},
   "source": [
    "### to delete the previous model"
   ]
  },
  {
   "cell_type": "code",
   "execution_count": 17,
   "id": "87feda63",
   "metadata": {},
   "outputs": [],
   "source": [
    "del model_A\n",
    "keras.backend.clear_session()"
   ]
  },
  {
   "cell_type": "markdown",
   "id": "d801ef45",
   "metadata": {},
   "source": [
    "## Model Architecture"
   ]
  },
  {
   "cell_type": "markdown",
   "id": "3fd42821",
   "metadata": {},
   "source": [
    "Random is to have the same output each time I run the code or to have the same output on every machine."
   ]
  },
  {
   "cell_type": "code",
   "execution_count": 6,
   "id": "90c5bfd1",
   "metadata": {},
   "outputs": [],
   "source": [
    "np.random.seed(42)\n",
    "tf.random.set_seed(42)"
   ]
  },
  {
   "cell_type": "code",
   "execution_count": 19,
   "id": "b224dfb6",
   "metadata": {},
   "outputs": [],
   "source": [
    "model_A = keras.models.Sequential()\n",
    "model_A.add(keras.layers.Conv2D(filters=32, kernel_size=(3,3), strides=1, padding='valid', \n",
    "                             activation='relu', input_shape=(28,28,1)))\n",
    "model_A.add(keras.layers.MaxPooling2D((2,2)))\n",
    "\n",
    "model_A.add(keras.layers.Flatten())\n",
    "model_A.add(keras.layers.Dense(200, activation='relu'))\n",
    "model_A.add(keras.layers.Dense(100, activation='relu'))\n",
    "model_A.add(keras.layers.Dense(10, activation='softmax'))"
   ]
  },
  {
   "cell_type": "code",
   "execution_count": 20,
   "id": "44990593",
   "metadata": {},
   "outputs": [],
   "source": [
    "model_B = keras.models.Sequential()\n",
    "model_B.add(keras.layers.Conv2D(filters=64, kernel_size=(3,3), strides=1, padding='valid', \n",
    "                             activation='relu', input_shape=(28,28,1)))\n",
    "model_B.add(keras.layers.MaxPooling2D((2,2)))\n",
    "\n",
    "model_B.add(keras.layers.Flatten())\n",
    "model_B.add(keras.layers.Dense(200, activation='relu'))\n",
    "model_B.add(keras.layers.Dense(100, activation='relu'))\n",
    "model_B.add(keras.layers.Dense(10, activation='softmax'))"
   ]
  },
  {
   "cell_type": "code",
   "execution_count": 21,
   "id": "eced6c9a",
   "metadata": {
    "collapsed": true
   },
   "outputs": [
    {
     "name": "stdout",
     "output_type": "stream",
     "text": [
      "Model: \"sequential\"\n",
      "_________________________________________________________________\n",
      " Layer (type)                Output Shape              Param #   \n",
      "=================================================================\n",
      " conv2d (Conv2D)             (None, 26, 26, 32)        320       \n",
      "                                                                 \n",
      " max_pooling2d (MaxPooling2  (None, 13, 13, 32)        0         \n",
      " D)                                                              \n",
      "                                                                 \n",
      " flatten (Flatten)           (None, 5408)              0         \n",
      "                                                                 \n",
      " dense (Dense)               (None, 200)               1081800   \n",
      "                                                                 \n",
      " dense_1 (Dense)             (None, 100)               20100     \n",
      "                                                                 \n",
      " dense_2 (Dense)             (None, 10)                1010      \n",
      "                                                                 \n",
      "=================================================================\n",
      "Total params: 1103230 (4.21 MB)\n",
      "Trainable params: 1103230 (4.21 MB)\n",
      "Non-trainable params: 0 (0.00 Byte)\n",
      "_________________________________________________________________\n"
     ]
    }
   ],
   "source": [
    "model_A.summary()"
   ]
  },
  {
   "cell_type": "code",
   "execution_count": 22,
   "id": "620ba1bf",
   "metadata": {
    "collapsed": true
   },
   "outputs": [
    {
     "name": "stdout",
     "output_type": "stream",
     "text": [
      "Model: \"sequential_1\"\n",
      "_________________________________________________________________\n",
      " Layer (type)                Output Shape              Param #   \n",
      "=================================================================\n",
      " conv2d_1 (Conv2D)           (None, 26, 26, 64)        640       \n",
      "                                                                 \n",
      " max_pooling2d_1 (MaxPoolin  (None, 13, 13, 64)        0         \n",
      " g2D)                                                            \n",
      "                                                                 \n",
      " flatten_1 (Flatten)         (None, 10816)             0         \n",
      "                                                                 \n",
      " dense_3 (Dense)             (None, 200)               2163400   \n",
      "                                                                 \n",
      " dense_4 (Dense)             (None, 100)               20100     \n",
      "                                                                 \n",
      " dense_5 (Dense)             (None, 10)                1010      \n",
      "                                                                 \n",
      "=================================================================\n",
      "Total params: 2185150 (8.34 MB)\n",
      "Trainable params: 2185150 (8.34 MB)\n",
      "Non-trainable params: 0 (0.00 Byte)\n",
      "_________________________________________________________________\n"
     ]
    }
   ],
   "source": [
    "model_B.summary()"
   ]
  },
  {
   "cell_type": "markdown",
   "id": "c167c6ab",
   "metadata": {},
   "source": [
    "## Compile"
   ]
  },
  {
   "cell_type": "code",
   "execution_count": 23,
   "id": "2ad6f54f",
   "metadata": {},
   "outputs": [],
   "source": [
    "model_A.compile(optimizer = \"sgd\",loss = \"sparse_categorical_crossentropy\",metrics = ['accuracy'])\n",
    "model_B.compile(optimizer = \"sgd\",loss = \"sparse_categorical_crossentropy\",metrics = ['accuracy'])"
   ]
  },
  {
   "cell_type": "markdown",
   "id": "679af939",
   "metadata": {},
   "source": [
    "## Early Stopping & Callback "
   ]
  },
  {
   "cell_type": "code",
   "execution_count": 25,
   "id": "ce4cd5ff",
   "metadata": {},
   "outputs": [],
   "source": [
    "checkpoint_cb_A = keras.callbacks.ModelCheckpoint(\"CNN_Digits_model_A.h5\", save_best_only=True)\n",
    "checkpoint_cb_B = keras.callbacks.ModelCheckpoint(\"CNN_Digits_model_B.h5\", save_best_only=True)\n",
    "early_stopping_cb_A = keras.callbacks.EarlyStopping(patience=3, restore_best_weights=True)\n",
    "early_stopping_cb_B = keras.callbacks.EarlyStopping(patience=3, restore_best_weights=True)"
   ]
  },
  {
   "cell_type": "markdown",
   "id": "a6d6f4ea",
   "metadata": {},
   "source": [
    "## Train"
   ]
  },
  {
   "cell_type": "code",
   "execution_count": 27,
   "id": "e3dfabce",
   "metadata": {
    "collapsed": true
   },
   "outputs": [
    {
     "name": "stdout",
     "output_type": "stream",
     "text": [
      "Epoch 1/60\n",
      "844/844 [==============================] - 22s 26ms/step - loss: 0.6447 - accuracy: 0.8314 - val_loss: 0.2749 - val_accuracy: 0.9217\n",
      "Epoch 2/60\n",
      "  4/844 [..............................] - ETA: 17s - loss: 0.3155 - accuracy: 0.9062"
     ]
    },
    {
     "name": "stderr",
     "output_type": "stream",
     "text": [
      "C:\\Users\\geetika singh\\anaconda3\\Lib\\site-packages\\keras\\src\\engine\\training.py:3000: UserWarning: You are saving your model as an HDF5 file via `model.save()`. This file format is considered legacy. We recommend using instead the native Keras format, e.g. `model.save('my_model.keras')`.\n",
      "  saving_api.save_model(\n"
     ]
    },
    {
     "name": "stdout",
     "output_type": "stream",
     "text": [
      "844/844 [==============================] - 21s 24ms/step - loss: 0.2616 - accuracy: 0.9222 - val_loss: 0.2112 - val_accuracy: 0.9395\n",
      "Epoch 3/60\n",
      "844/844 [==============================] - 22s 26ms/step - loss: 0.2047 - accuracy: 0.9388 - val_loss: 0.1726 - val_accuracy: 0.9515\n",
      "Epoch 4/60\n",
      "844/844 [==============================] - 27s 32ms/step - loss: 0.1705 - accuracy: 0.9499 - val_loss: 0.1430 - val_accuracy: 0.9607\n",
      "Epoch 5/60\n",
      "844/844 [==============================] - 29s 35ms/step - loss: 0.1466 - accuracy: 0.9569 - val_loss: 0.1331 - val_accuracy: 0.9610\n",
      "Epoch 6/60\n",
      "844/844 [==============================] - 29s 34ms/step - loss: 0.1287 - accuracy: 0.9623 - val_loss: 0.1187 - val_accuracy: 0.9657\n",
      "Epoch 7/60\n",
      "844/844 [==============================] - 31s 37ms/step - loss: 0.1151 - accuracy: 0.9662 - val_loss: 0.1075 - val_accuracy: 0.9672\n",
      "Epoch 8/60\n",
      "844/844 [==============================] - 29s 34ms/step - loss: 0.1037 - accuracy: 0.9697 - val_loss: 0.1009 - val_accuracy: 0.9702\n",
      "Epoch 9/60\n",
      "844/844 [==============================] - 32s 38ms/step - loss: 0.0948 - accuracy: 0.9716 - val_loss: 0.0953 - val_accuracy: 0.9707\n",
      "Epoch 10/60\n",
      "844/844 [==============================] - 30s 35ms/step - loss: 0.0870 - accuracy: 0.9743 - val_loss: 0.0897 - val_accuracy: 0.9700\n",
      "Epoch 11/60\n",
      "844/844 [==============================] - 31s 36ms/step - loss: 0.0800 - accuracy: 0.9759 - val_loss: 0.0831 - val_accuracy: 0.9742\n",
      "Epoch 12/60\n",
      "844/844 [==============================] - 34s 40ms/step - loss: 0.0740 - accuracy: 0.9780 - val_loss: 0.0794 - val_accuracy: 0.9758\n",
      "Epoch 13/60\n",
      "844/844 [==============================] - 31s 37ms/step - loss: 0.0689 - accuracy: 0.9793 - val_loss: 0.0778 - val_accuracy: 0.9742\n",
      "Epoch 14/60\n",
      "844/844 [==============================] - 34s 40ms/step - loss: 0.0648 - accuracy: 0.9808 - val_loss: 0.0745 - val_accuracy: 0.9755\n",
      "Epoch 15/60\n",
      "844/844 [==============================] - 37s 44ms/step - loss: 0.0610 - accuracy: 0.9817 - val_loss: 0.0776 - val_accuracy: 0.9755\n",
      "Epoch 16/60\n",
      "844/844 [==============================] - 34s 40ms/step - loss: 0.0573 - accuracy: 0.9827 - val_loss: 0.0690 - val_accuracy: 0.9788\n",
      "Epoch 17/60\n",
      "844/844 [==============================] - 34s 41ms/step - loss: 0.0540 - accuracy: 0.9840 - val_loss: 0.0698 - val_accuracy: 0.9780\n",
      "Epoch 18/60\n",
      "844/844 [==============================] - 29s 35ms/step - loss: 0.0505 - accuracy: 0.9847 - val_loss: 0.0660 - val_accuracy: 0.9790\n",
      "Epoch 19/60\n",
      "844/844 [==============================] - 34s 40ms/step - loss: 0.0482 - accuracy: 0.9856 - val_loss: 0.0804 - val_accuracy: 0.9752\n",
      "Epoch 20/60\n",
      "844/844 [==============================] - 35s 42ms/step - loss: 0.0453 - accuracy: 0.9866 - val_loss: 0.0686 - val_accuracy: 0.9780\n",
      "Epoch 21/60\n",
      "844/844 [==============================] - 38s 44ms/step - loss: 0.0430 - accuracy: 0.9872 - val_loss: 0.0629 - val_accuracy: 0.9812\n",
      "Epoch 22/60\n",
      "844/844 [==============================] - 34s 40ms/step - loss: 0.0403 - accuracy: 0.9877 - val_loss: 0.0632 - val_accuracy: 0.9803\n",
      "Epoch 23/60\n",
      "844/844 [==============================] - 33s 40ms/step - loss: 0.0387 - accuracy: 0.9882 - val_loss: 0.0690 - val_accuracy: 0.9768\n",
      "Epoch 24/60\n",
      "844/844 [==============================] - 37s 44ms/step - loss: 0.0359 - accuracy: 0.9895 - val_loss: 0.0620 - val_accuracy: 0.9798\n",
      "Epoch 25/60\n",
      "844/844 [==============================] - 33s 40ms/step - loss: 0.0344 - accuracy: 0.9897 - val_loss: 0.0665 - val_accuracy: 0.9780\n",
      "Epoch 26/60\n",
      "844/844 [==============================] - 32s 38ms/step - loss: 0.0332 - accuracy: 0.9900 - val_loss: 0.0613 - val_accuracy: 0.9803\n",
      "Epoch 27/60\n",
      "844/844 [==============================] - 34s 40ms/step - loss: 0.0309 - accuracy: 0.9913 - val_loss: 0.0624 - val_accuracy: 0.9797\n",
      "Epoch 28/60\n",
      "844/844 [==============================] - 35s 41ms/step - loss: 0.0295 - accuracy: 0.9912 - val_loss: 0.0641 - val_accuracy: 0.9805\n",
      "Epoch 29/60\n",
      "844/844 [==============================] - 33s 39ms/step - loss: 0.0278 - accuracy: 0.9919 - val_loss: 0.0764 - val_accuracy: 0.9753\n"
     ]
    }
   ],
   "source": [
    "history_A = model_A.fit(x_train, y_train, epochs=60, batch_size=64, \n",
    "                        validation_data=(x_val, y_val),\\\n",
    "                        callbacks = [checkpoint_cb_A, early_stopping_cb_A])"
   ]
  },
  {
   "cell_type": "code",
   "execution_count": 28,
   "id": "ca8da906",
   "metadata": {
    "collapsed": true
   },
   "outputs": [
    {
     "name": "stdout",
     "output_type": "stream",
     "text": [
      "Epoch 1/60\n",
      "844/844 [==============================] - 38s 45ms/step - loss: 0.6942 - accuracy: 0.8173 - val_loss: 0.2798 - val_accuracy: 0.9183\n",
      "Epoch 2/60\n",
      "844/844 [==============================] - 41s 48ms/step - loss: 0.2641 - accuracy: 0.9230 - val_loss: 0.2187 - val_accuracy: 0.9393\n",
      "Epoch 3/60\n",
      "844/844 [==============================] - 43s 51ms/step - loss: 0.2080 - accuracy: 0.9378 - val_loss: 0.1757 - val_accuracy: 0.9532\n",
      "Epoch 4/60\n",
      "844/844 [==============================] - 44s 52ms/step - loss: 0.1727 - accuracy: 0.9482 - val_loss: 0.1482 - val_accuracy: 0.9570\n",
      "Epoch 5/60\n",
      "844/844 [==============================] - 53s 62ms/step - loss: 0.1478 - accuracy: 0.9557 - val_loss: 0.1353 - val_accuracy: 0.9620\n",
      "Epoch 6/60\n",
      "844/844 [==============================] - 46s 54ms/step - loss: 0.1296 - accuracy: 0.9618 - val_loss: 0.1183 - val_accuracy: 0.9640\n",
      "Epoch 7/60\n",
      "844/844 [==============================] - 44s 53ms/step - loss: 0.1152 - accuracy: 0.9666 - val_loss: 0.1067 - val_accuracy: 0.9663\n",
      "Epoch 8/60\n",
      "844/844 [==============================] - 45s 53ms/step - loss: 0.1039 - accuracy: 0.9696 - val_loss: 0.1003 - val_accuracy: 0.9710\n",
      "Epoch 9/60\n",
      "844/844 [==============================] - 45s 54ms/step - loss: 0.0946 - accuracy: 0.9720 - val_loss: 0.0923 - val_accuracy: 0.9737\n",
      "Epoch 10/60\n",
      "844/844 [==============================] - 46s 54ms/step - loss: 0.0866 - accuracy: 0.9746 - val_loss: 0.0899 - val_accuracy: 0.9717\n",
      "Epoch 11/60\n",
      "844/844 [==============================] - 47s 55ms/step - loss: 0.0797 - accuracy: 0.9763 - val_loss: 0.0820 - val_accuracy: 0.9753\n",
      "Epoch 12/60\n",
      "844/844 [==============================] - 48s 56ms/step - loss: 0.0736 - accuracy: 0.9782 - val_loss: 0.0775 - val_accuracy: 0.9768\n",
      "Epoch 13/60\n",
      "844/844 [==============================] - 47s 56ms/step - loss: 0.0683 - accuracy: 0.9797 - val_loss: 0.0772 - val_accuracy: 0.9757\n",
      "Epoch 14/60\n",
      "844/844 [==============================] - 48s 57ms/step - loss: 0.0631 - accuracy: 0.9815 - val_loss: 0.0710 - val_accuracy: 0.9785\n",
      "Epoch 15/60\n",
      "844/844 [==============================] - 48s 57ms/step - loss: 0.0594 - accuracy: 0.9821 - val_loss: 0.0706 - val_accuracy: 0.9788\n",
      "Epoch 16/60\n",
      "844/844 [==============================] - 48s 57ms/step - loss: 0.0557 - accuracy: 0.9834 - val_loss: 0.0665 - val_accuracy: 0.9792\n",
      "Epoch 17/60\n",
      "844/844 [==============================] - 48s 57ms/step - loss: 0.0523 - accuracy: 0.9846 - val_loss: 0.0693 - val_accuracy: 0.9783\n",
      "Epoch 18/60\n",
      "844/844 [==============================] - 49s 58ms/step - loss: 0.0491 - accuracy: 0.9854 - val_loss: 0.0617 - val_accuracy: 0.9810\n",
      "Epoch 19/60\n",
      "844/844 [==============================] - 49s 58ms/step - loss: 0.0462 - accuracy: 0.9867 - val_loss: 0.0759 - val_accuracy: 0.9738\n",
      "Epoch 20/60\n",
      "844/844 [==============================] - 49s 58ms/step - loss: 0.0430 - accuracy: 0.9871 - val_loss: 0.0644 - val_accuracy: 0.9812\n",
      "Epoch 21/60\n",
      "844/844 [==============================] - 50s 59ms/step - loss: 0.0416 - accuracy: 0.9873 - val_loss: 0.0624 - val_accuracy: 0.9805\n"
     ]
    }
   ],
   "source": [
    "history_B = model_B.fit(x_train, y_train, epochs=60, batch_size=64, \n",
    "                        validation_data=(x_val, y_val),\n",
    "                        callbacks = [checkpoint_cb_B, early_stopping_cb_B])"
   ]
  },
  {
   "cell_type": "markdown",
   "id": "021c86e0",
   "metadata": {},
   "source": [
    "### Plotting the lost & accuracy against each epoch"
   ]
  },
  {
   "cell_type": "code",
   "execution_count": 29,
   "id": "dda13658",
   "metadata": {
    "collapsed": true
   },
   "outputs": [
    {
     "data": {
      "image/png": "[encoded data removed]",
      "text/plain": [
       "<Figure size 800x500 with 1 Axes>"
      ]
     },
     "metadata": {},
     "output_type": "display_data"
    }
   ],
   "source": [
    "pd.DataFrame(history_A.history).plot(figsize=(8,5))\n",
    "plt.grid(True)\n",
    "plt.gca().set_ylim(0,1)\n",
    "plt.show()"
   ]
  },
  {
   "cell_type": "code",
   "execution_count": 30,
   "id": "1dd1f4af",
   "metadata": {
    "collapsed": true
   },
   "outputs": [
    {
     "data": {
      "image/png": "[encoded data removed]",
      "text/plain": [
       "<Figure size 800x500 with 1 Axes>"
      ]
     },
     "metadata": {},
     "output_type": "display_data"
    }
   ],
   "source": [
    "pd.DataFrame(history_B.history).plot(figsize=(8,5))\n",
    "plt.grid(True)\n",
    "plt.gca().set_ylim(0,1)\n",
    "plt.show()"
   ]
  },
  {
   "cell_type": "markdown",
   "id": "c5565c1d",
   "metadata": {},
   "source": [
    "### Load the best model & Evaluating model accuracy on test dataset"
   ]
  },
  {
   "cell_type": "code",
   "execution_count": 7,
   "id": "b9b9f38b",
   "metadata": {},
   "outputs": [
    {
     "name": "stdout",
     "output_type": "stream",
     "text": [
      "313/313 [==============================] - 2s 5ms/step - loss: 0.0602 - accuracy: 0.9808\n"
     ]
    },
    {
     "data": {
      "text/plain": [
       "[0.06021520495414734, 0.9807999730110168]"
      ]
     },
     "execution_count": 7,
     "metadata": {},
     "output_type": "execute_result"
    }
   ],
   "source": [
    "model_A = keras.models.load_model(\"CNN_Digits_model_A.h5\")\n",
    "model_A.evaluate(x_test,y_test)"
   ]
  },
  {
   "cell_type": "code",
   "execution_count": 8,
   "id": "00fb8c6a",
   "metadata": {},
   "outputs": [
    {
     "name": "stdout",
     "output_type": "stream",
     "text": [
      "313/313 [==============================] - 3s 8ms/step - loss: 0.0678 - accuracy: 0.9785\n"
     ]
    },
    {
     "data": {
      "text/plain": [
       "[0.06777818500995636, 0.9785000085830688]"
      ]
     },
     "execution_count": 8,
     "metadata": {},
     "output_type": "execute_result"
    }
   ],
   "source": [
    "model_B = keras.models.load_model(\"CNN_Digits_model_B.h5\")\n",
    "model_B.evaluate(x_test,y_test)"
   ]
  },
  {
   "cell_type": "code",
   "execution_count": 9,
   "id": "208ba986",
   "metadata": {},
   "outputs": [
    {
     "name": "stdout",
     "output_type": "stream",
     "text": [
      "1/1 [==============================] - 0s 158ms/step\n"
     ]
    },
    {
     "data": {
      "text/plain": [
       "array([7, 2, 1, 0, 4], dtype=int64)"
      ]
     },
     "execution_count": 9,
     "metadata": {},
     "output_type": "execute_result"
    }
   ],
   "source": [
    "y_pred = np.argmax(model_A.predict(x_test[:5]),axis=1)\n",
    "y_pred"
   ]
  },
  {
   "cell_type": "code",
   "execution_count": 11,
   "id": "8254b5f1",
   "metadata": {},
   "outputs": [
    {
     "data": {
      "text/plain": [
       "<matplotlib.image.AxesImage at 0x17bb89f4350>"
      ]
     },
     "execution_count": 11,
     "metadata": {},
     "output_type": "execute_result"
    },
    {
     "data": {
      "image/png": "[encoded data removed]",
      "text/plain": [
       "<Figure size 640x480 with 1 Axes>"
      ]
     },
     "metadata": {},
     "output_type": "display_data"
    }
   ],
   "source": [
    "plt.imshow(x_test[3])"
   ]
  },
  {
   "cell_type": "code",
   "execution_count": null,
   "id": "d0346a8d",
   "metadata": {},
   "outputs": [],
   "source": []
  }
 ],
 "metadata": {
  "kernelspec": {
   "display_name": "Python 3 (ipykernel)",
   "language": "python",
   "name": "python3"
  },
  "language_info": {
   "codemirror_mode": {
    "name": "ipython",
    "version": 3
   },
   "file_extension": ".py",
   "mimetype": "text/x-python",
   "name": "python",
   "nbconvert_exporter": "python",
   "pygments_lexer": "ipython3",
   "version": "3.11.4"
  }
 },
 "nbformat": 4,
 "nbformat_minor": 5
}
